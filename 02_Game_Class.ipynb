{
 "cells": [
  {
   "cell_type": "code",
   "execution_count": 22,
   "id": "94087adf",
   "metadata": {},
   "outputs": [],
   "source": [
    "import pandas as pd\n",
    "from time import time"
   ]
  },
  {
   "cell_type": "code",
   "execution_count": 45,
   "id": "8b6d0ed9",
   "metadata": {},
   "outputs": [],
   "source": [
    "class Game:\n",
    "    \n",
    "    def __init__(self, filename):\n",
    "        \n",
    "        with open(filename) as f:\n",
    "            lines = f.readlines()\n",
    "\n",
    "        self.words = [a[0:5] for a in lines]\n",
    "        self.filename = filename\n",
    "\n",
    "        \n",
    "    def play_full(self, algo_name):\n",
    "        \n",
    "        correctly_guessed = []\n",
    "        wrongly_guessed = []\n",
    "        guesses = [self.play_one(algo_name, secret_word) for secret_word in self.words]\n",
    "        correctly_guessed = [a for a,b in zip(self.words,guesses) if b]\n",
    "        wrongly_guessed = [a for a,b in zip(self.words,guesses) if not b]\n",
    "        accuracy = 100*len(correctly_guessed)/len(self.words)\n",
    "        \n",
    "        return accuracy, correctly_guessed, wrongly_guessed\n",
    "\n",
    "    \n",
    "    def play_one(self, algo_name, secret_word):\n",
    "        \n",
    "        A = algo_name(self.filename)\n",
    "            \n",
    "        for i in range(6):\n",
    "\n",
    "            word = A.word_selection()\n",
    "            correct, status = self.word_check(secret_word, word)\n",
    "\n",
    "            if correct == 1:\n",
    "\n",
    "                return 1\n",
    "\n",
    "            A.word_result(word, status)\n",
    "\n",
    "        return 0\n",
    "            \n",
    "            \n",
    "    \n",
    "    def word_check(self, secret_word, word):\n",
    "        \n",
    "        if secret_word == word:\n",
    "            \n",
    "            return 1, [1]*5\n",
    "        \n",
    "        else:\n",
    "            \n",
    "            status = [0]*5\n",
    "            \n",
    "            for i in range(5):\n",
    "                \n",
    "                if word[i] == secret_word[i]:\n",
    "                    \n",
    "                    status[i] = 1\n",
    "                    \n",
    "                elif word[i] in secret_word:\n",
    "                    \n",
    "                    status[i] = 2\n",
    "                    \n",
    "            return 0, status\n",
    "            \n",
    "        \n",
    "        \n",
    "    \n",
    "class Algo:\n",
    "    \n",
    "    def __init__(self, filename):\n",
    "        \n",
    "        with open(filename) as f:\n",
    "            lines = f.readlines()\n",
    "\n",
    "        self.words = [a[0:5] for a in lines]\n",
    "        \n",
    "    def word_selection(self):\n",
    "        \n",
    "        return self.words[0]\n",
    "    \n",
    "    def word_result(self, word, result):\n",
    "        \n",
    "        pass"
   ]
  },
  {
   "cell_type": "code",
   "execution_count": 46,
   "id": "9b56054f",
   "metadata": {},
   "outputs": [
    {
     "data": {
      "text/plain": [
       "19.36482071876526"
      ]
     },
     "execution_count": 46,
     "metadata": {},
     "output_type": "execute_result"
    }
   ],
   "source": [
    "G = Game('words')\n",
    "start = time()\n",
    "acc, correct, wrong = G.play_full(Algo)\n",
    "time()-start"
   ]
  },
  {
   "cell_type": "code",
   "execution_count": 35,
   "id": "0f30e25b",
   "metadata": {},
   "outputs": [],
   "source": [
    "G = Game('words')"
   ]
  },
  {
   "cell_type": "code",
   "execution_count": 36,
   "id": "01b77402",
   "metadata": {},
   "outputs": [
    {
     "data": {
      "text/plain": [
       "(0, [2, 0, 2, 1, 2])"
      ]
     },
     "execution_count": 36,
     "metadata": {},
     "output_type": "execute_result"
    }
   ],
   "source": [
    "G.word_check('asdfe','dwafs')"
   ]
  },
  {
   "cell_type": "code",
   "execution_count": 39,
   "id": "b34ef442",
   "metadata": {},
   "outputs": [
    {
     "data": {
      "text/plain": [
       "1.0"
      ]
     },
     "execution_count": 39,
     "metadata": {},
     "output_type": "execute_result"
    }
   ],
   "source": [
    "acc*len(G.words)/100"
   ]
  },
  {
   "cell_type": "code",
   "execution_count": null,
   "id": "b70abf8f",
   "metadata": {},
   "outputs": [],
   "source": []
  },
  {
   "cell_type": "code",
   "execution_count": null,
   "id": "668bd720",
   "metadata": {},
   "outputs": [],
   "source": []
  },
  {
   "cell_type": "code",
   "execution_count": null,
   "id": "cf5b0248",
   "metadata": {},
   "outputs": [],
   "source": []
  },
  {
   "cell_type": "code",
   "execution_count": null,
   "id": "66a0fc13",
   "metadata": {},
   "outputs": [],
   "source": []
  },
  {
   "cell_type": "code",
   "execution_count": null,
   "id": "6c3a685a",
   "metadata": {},
   "outputs": [],
   "source": []
  },
  {
   "cell_type": "code",
   "execution_count": null,
   "id": "8440140a",
   "metadata": {},
   "outputs": [],
   "source": []
  },
  {
   "cell_type": "code",
   "execution_count": null,
   "id": "84137c67",
   "metadata": {},
   "outputs": [],
   "source": []
  },
  {
   "cell_type": "code",
   "execution_count": null,
   "id": "d212c698",
   "metadata": {},
   "outputs": [],
   "source": []
  },
  {
   "cell_type": "code",
   "execution_count": null,
   "id": "b958ec2c",
   "metadata": {},
   "outputs": [],
   "source": []
  },
  {
   "cell_type": "code",
   "execution_count": null,
   "id": "a4d65b25",
   "metadata": {},
   "outputs": [],
   "source": []
  },
  {
   "cell_type": "code",
   "execution_count": null,
   "id": "12191735",
   "metadata": {},
   "outputs": [],
   "source": []
  },
  {
   "cell_type": "code",
   "execution_count": null,
   "id": "7f642c09",
   "metadata": {},
   "outputs": [],
   "source": []
  },
  {
   "cell_type": "code",
   "execution_count": null,
   "id": "a73f1f99",
   "metadata": {},
   "outputs": [],
   "source": []
  },
  {
   "cell_type": "code",
   "execution_count": null,
   "id": "eb428860",
   "metadata": {},
   "outputs": [],
   "source": []
  },
  {
   "cell_type": "code",
   "execution_count": null,
   "id": "3d7974e8",
   "metadata": {},
   "outputs": [],
   "source": []
  },
  {
   "cell_type": "code",
   "execution_count": null,
   "id": "166e5e8d",
   "metadata": {},
   "outputs": [],
   "source": []
  },
  {
   "cell_type": "code",
   "execution_count": null,
   "id": "e0cf65d0",
   "metadata": {},
   "outputs": [],
   "source": []
  },
  {
   "cell_type": "code",
   "execution_count": null,
   "id": "b05690f7",
   "metadata": {},
   "outputs": [],
   "source": []
  },
  {
   "cell_type": "code",
   "execution_count": null,
   "id": "deafd638",
   "metadata": {},
   "outputs": [],
   "source": []
  },
  {
   "cell_type": "code",
   "execution_count": null,
   "id": "cf634335",
   "metadata": {},
   "outputs": [],
   "source": []
  },
  {
   "cell_type": "code",
   "execution_count": null,
   "id": "3807f778",
   "metadata": {},
   "outputs": [],
   "source": []
  },
  {
   "cell_type": "code",
   "execution_count": null,
   "id": "a8245433",
   "metadata": {},
   "outputs": [],
   "source": []
  },
  {
   "cell_type": "code",
   "execution_count": null,
   "id": "d49393ab",
   "metadata": {},
   "outputs": [],
   "source": []
  },
  {
   "cell_type": "code",
   "execution_count": null,
   "id": "23be62b6",
   "metadata": {},
   "outputs": [],
   "source": []
  },
  {
   "cell_type": "code",
   "execution_count": null,
   "id": "877497c2",
   "metadata": {},
   "outputs": [],
   "source": []
  },
  {
   "cell_type": "code",
   "execution_count": null,
   "id": "ab1e5b6e",
   "metadata": {},
   "outputs": [],
   "source": []
  },
  {
   "cell_type": "code",
   "execution_count": 13,
   "id": "86f11a53",
   "metadata": {},
   "outputs": [
    {
     "data": {
      "text/plain": [
       "[1, 1, 3, 1, 1]"
      ]
     },
     "execution_count": 13,
     "metadata": {},
     "output_type": "execute_result"
    }
   ],
   "source": [
    "a = [1]*5\n",
    "a[2] = 3\n",
    "a"
   ]
  },
  {
   "cell_type": "code",
   "execution_count": null,
   "id": "d754afb8",
   "metadata": {},
   "outputs": [],
   "source": []
  },
  {
   "cell_type": "code",
   "execution_count": null,
   "id": "025ddf0a",
   "metadata": {},
   "outputs": [],
   "source": []
  },
  {
   "cell_type": "code",
   "execution_count": null,
   "id": "9ae461f6",
   "metadata": {},
   "outputs": [],
   "source": []
  },
  {
   "cell_type": "code",
   "execution_count": null,
   "id": "1605cd94",
   "metadata": {},
   "outputs": [],
   "source": []
  },
  {
   "cell_type": "code",
   "execution_count": null,
   "id": "7d11e183",
   "metadata": {},
   "outputs": [],
   "source": []
  },
  {
   "cell_type": "code",
   "execution_count": null,
   "id": "914970a8",
   "metadata": {},
   "outputs": [],
   "source": []
  },
  {
   "cell_type": "code",
   "execution_count": null,
   "id": "5d9c125e",
   "metadata": {},
   "outputs": [],
   "source": []
  },
  {
   "cell_type": "code",
   "execution_count": null,
   "id": "a21b2628",
   "metadata": {},
   "outputs": [],
   "source": []
  },
  {
   "cell_type": "code",
   "execution_count": null,
   "id": "9efbd9f2",
   "metadata": {},
   "outputs": [],
   "source": []
  },
  {
   "cell_type": "code",
   "execution_count": null,
   "id": "117fceb7",
   "metadata": {},
   "outputs": [],
   "source": []
  }
 ],
 "metadata": {
  "kernelspec": {
   "display_name": "Python 3 (ipykernel)",
   "language": "python",
   "name": "python3"
  },
  "language_info": {
   "codemirror_mode": {
    "name": "ipython",
    "version": 3
   },
   "file_extension": ".py",
   "mimetype": "text/x-python",
   "name": "python",
   "nbconvert_exporter": "python",
   "pygments_lexer": "ipython3",
   "version": "3.10.6"
  }
 },
 "nbformat": 4,
 "nbformat_minor": 5
}

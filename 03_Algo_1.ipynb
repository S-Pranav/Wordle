{
 "cells": [
  {
   "cell_type": "code",
   "execution_count": 57,
   "id": "42dad784",
   "metadata": {
    "scrolled": true
   },
   "outputs": [],
   "source": [
    "from Game import Game\n",
    "import pandas as pd\n",
    "from time import time\n",
    "from joblib import delayed, Parallel\n",
    "import multiprocessing\n",
    "NUM_CPUS = multiprocessing.cpu_count()"
   ]
  },
  {
   "cell_type": "code",
   "execution_count": 69,
   "id": "305f6940",
   "metadata": {},
   "outputs": [],
   "source": [
    "class Algo:\n",
    "    \n",
    "    def __init__(self, filename):\n",
    "        \n",
    "        with open(filename) as f:\n",
    "            lines = f.readlines()\n",
    "        \n",
    "        self.words = [list(a[0:5]) for a in lines]\n",
    "        self.df_main = pd.DataFrame(self.words)\n",
    "        \n",
    "    def word_selection(self):\n",
    "        \n",
    "        df = self.df_main\n",
    "        fixed = [0 for i in range(5)]\n",
    "        fixed_val = [0 for i in range(5)]\n",
    "\n",
    "#         while sum(fixed) != 5:\n",
    "#             count = []\n",
    "#             count_of = []\n",
    "#             dist = dict()\n",
    "#             for i in range(5):\n",
    "#                 c = df[i].value_counts()\n",
    "#                 dist[i] = c\n",
    "#                 count_of.append(c.index[0])\n",
    "#                 count.append(c[0])\n",
    "            \n",
    "        for j in range(5):\n",
    "            count = []\n",
    "            count_of = []\n",
    "            dist = dict()\n",
    "            for i in range(5):\n",
    "                c = df[i].value_counts()\n",
    "                dist[i] = c\n",
    "                count_of.append(c.index[0])\n",
    "                count.append(c[0])\n",
    "#             order = sorted(count, reverse=True)\n",
    "#             for i in range(5):\n",
    "#                 ind = count.index(order[i])\n",
    "#                 if not fixed[ind]:\n",
    "#                     break\n",
    "            ind = self.fix_letter(count, fixed)\n",
    "            fixed[ind] = 1\n",
    "            fixed_val[ind] = count_of[ind]\n",
    "            df = df[df[ind] == count_of[ind]]\n",
    "            df = df.reset_index(drop=True)\n",
    "#             print(count)\n",
    "#             print(len(df), df.head())\n",
    "            if len(df) == 1:\n",
    "#                 print(df.head())\n",
    "                fixed_val = list(df.loc[0])\n",
    "                break\n",
    "            \n",
    "#             print(count, count_of, fixed_val)\n",
    "#         print(fixed_val, len(df))\n",
    "        return ''.join(fixed_val)\n",
    "    \n",
    "    \n",
    "    def fix_letter(self, count, fixed):\n",
    "        \n",
    "        order = sorted(list(set(count)), reverse = True)\n",
    "        \n",
    "        for val in order:\n",
    "            for i in range(5):\n",
    "                if count[i] == val and fixed[i] == 0:\n",
    "#                     print(i)\n",
    "                    return i\n",
    "    \n",
    "    \n",
    "    def word_result(self, word, result):\n",
    "        \n",
    "        for i in range(5):\n",
    "            if result[i] == 1:\n",
    "                self.df_main = self.df_main[self.df_main[i] == word[i]]\n",
    "            elif result[i] == 2:\n",
    "                indices = []\n",
    "                for j,val in enumerate(self.df_main.values):\n",
    "                    if word[i] not in val:\n",
    "                        indices.append(j)\n",
    "                self.df_main = self.df_main.drop(indices)\n",
    "            else:\n",
    "                for j in range(5):\n",
    "                    self.df_main = self.df_main[self.df_main[j] != word[i]]\n",
    "            self.df_main = self.df_main.reset_index(drop = True)\n",
    "                    \n",
    "                \n",
    "        \n",
    "        \n",
    "        \n",
    "        "
   ]
  },
  {
   "cell_type": "code",
   "execution_count": 70,
   "id": "f0032ca7",
   "metadata": {
    "scrolled": false
   },
   "outputs": [
    {
     "data": {
      "text/plain": [
       "'dales'"
      ]
     },
     "execution_count": 70,
     "metadata": {},
     "output_type": "execute_result"
    }
   ],
   "source": [
    "A = Algo('words')\n",
    "A.word_selection()"
   ]
  },
  {
   "cell_type": "code",
   "execution_count": 71,
   "id": "bfc39558",
   "metadata": {
    "scrolled": true
   },
   "outputs": [
    {
     "data": {
      "text/plain": [
       "413.73736095428467"
      ]
     },
     "execution_count": 71,
     "metadata": {},
     "output_type": "execute_result"
    }
   ],
   "source": [
    "G = Game('words')\n",
    "start = time()\n",
    "acc, correct, wrong = G.play_full(Algo)\n",
    "time() - start"
   ]
  },
  {
   "cell_type": "code",
   "execution_count": 30,
   "id": "8914b8df",
   "metadata": {
    "scrolled": true
   },
   "outputs": [
    {
     "data": {
      "text/plain": [
       "9.714322090148926"
      ]
     },
     "execution_count": 30,
     "metadata": {},
     "output_type": "execute_result"
    }
   ],
   "source": [
    "G = Game('words')\n",
    "start = time()\n",
    "acc, correct, wrong = G.play_full(Algo)\n",
    "time() - start"
   ]
  },
  {
   "cell_type": "code",
   "execution_count": 73,
   "id": "ce80cd13",
   "metadata": {},
   "outputs": [
    {
     "data": {
      "text/plain": [
       "(32.42679232581622, 4817, 10038)"
      ]
     },
     "execution_count": 73,
     "metadata": {},
     "output_type": "execute_result"
    }
   ],
   "source": [
    "acc, len(correct), len(wrong)"
   ]
  },
  {
   "cell_type": "code",
   "execution_count": 76,
   "id": "0a0fda42",
   "metadata": {},
   "outputs": [],
   "source": [
    "C = pd.DataFrame([list(i) for i in correct])\n",
    "W = pd.DataFrame([list(i) for i in wrong])"
   ]
  },
  {
   "cell_type": "code",
   "execution_count": 79,
   "id": "3077d0d8",
   "metadata": {},
   "outputs": [
    {
     "data": {
      "text/plain": [
       "a    963\n",
       "o    824\n",
       "i    632\n",
       "e    551\n",
       "u    539\n",
       "r    360\n",
       "h    217\n",
       "l    203\n",
       "y    100\n",
       "n     96\n",
       "m     45\n",
       "c     41\n",
       "w     41\n",
       "p     41\n",
       "t     30\n",
       "b     28\n",
       "k     20\n",
       "d     18\n",
       "g     18\n",
       "v     16\n",
       "x     10\n",
       "f      7\n",
       "s      6\n",
       "z      5\n",
       "q      3\n",
       "j      3\n",
       "Name: 1, dtype: int64"
      ]
     },
     "execution_count": 79,
     "metadata": {},
     "output_type": "execute_result"
    }
   ],
   "source": [
    "C[1].value_counts()"
   ]
  },
  {
   "cell_type": "code",
   "execution_count": 81,
   "id": "1f6529e4",
   "metadata": {},
   "outputs": [
    {
     "data": {
      "text/plain": [
       "a    1719\n",
       "o    1590\n",
       "e    1306\n",
       "i     966\n",
       "u     829\n",
       "r     659\n",
       "l     571\n",
       "h     387\n",
       "n     292\n",
       "t     226\n",
       "p     208\n",
       "y     198\n",
       "m     166\n",
       "c     166\n",
       "w     136\n",
       "s     107\n",
       "k      94\n",
       "d      90\n",
       "b      80\n",
       "g      76\n",
       "x      53\n",
       "v      41\n",
       "f      30\n",
       "z      25\n",
       "q      13\n",
       "j      10\n",
       "Name: 1, dtype: int64"
      ]
     },
     "execution_count": 81,
     "metadata": {},
     "output_type": "execute_result"
    }
   ],
   "source": [
    "W[1].value_counts()"
   ]
  },
  {
   "cell_type": "code",
   "execution_count": null,
   "id": "f8b24e0e",
   "metadata": {},
   "outputs": [],
   "source": []
  },
  {
   "cell_type": "code",
   "execution_count": null,
   "id": "ed0b9806",
   "metadata": {},
   "outputs": [],
   "source": []
  },
  {
   "cell_type": "code",
   "execution_count": null,
   "id": "5ae14634",
   "metadata": {},
   "outputs": [],
   "source": []
  },
  {
   "cell_type": "code",
   "execution_count": null,
   "id": "860c8c80",
   "metadata": {},
   "outputs": [],
   "source": []
  },
  {
   "cell_type": "code",
   "execution_count": null,
   "id": "911c8627",
   "metadata": {},
   "outputs": [],
   "source": []
  },
  {
   "cell_type": "code",
   "execution_count": null,
   "id": "4d05361e",
   "metadata": {},
   "outputs": [],
   "source": []
  },
  {
   "cell_type": "code",
   "execution_count": null,
   "id": "8e5a19af",
   "metadata": {},
   "outputs": [],
   "source": []
  }
 ],
 "metadata": {
  "kernelspec": {
   "display_name": "Python 3 (ipykernel)",
   "language": "python",
   "name": "python3"
  },
  "language_info": {
   "codemirror_mode": {
    "name": "ipython",
    "version": 3
   },
   "file_extension": ".py",
   "mimetype": "text/x-python",
   "name": "python",
   "nbconvert_exporter": "python",
   "pygments_lexer": "ipython3",
   "version": "3.10.6"
  }
 },
 "nbformat": 4,
 "nbformat_minor": 5
}
